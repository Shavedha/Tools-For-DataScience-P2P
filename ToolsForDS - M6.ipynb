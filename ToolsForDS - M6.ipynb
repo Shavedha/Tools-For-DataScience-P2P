{
 "cells": [
  {
   "cell_type": "markdown",
   "id": "4e414e79",
   "metadata": {},
   "source": [
    "### Tools for DataScience - Assignment"
   ]
  },
  {
   "cell_type": "markdown",
   "id": "9af63697",
   "metadata": {},
   "source": [
    "##### Tools of DataScience are explained below,"
   ]
  },
  {
   "cell_type": "markdown",
   "id": "6d4672bb",
   "metadata": {},
   "source": [
    "## Data Science Languages\n",
    "\n",
    "Here are six popular programming languages used in Data Science:\n",
    "\n",
    "1. **Python** - Widely used for data analysis, machine learning, and visualization.\n",
    "2. **R** - Specialized for statistical computing and data visualization.\n",
    "3. **SQL** - Essential for querying and managing relational databases.\n",
    "4. **Scala** - Commonly used with big data tools like Apache Spark.\n",
    "5. **Julia** - Designed for high-performance numerical and scientific computing.\n",
    "6. **Java** - Often used for developing large-scale data science applications.\n"
   ]
  },
  {
   "cell_type": "markdown",
   "id": "fa2a7d02",
   "metadata": {},
   "source": [
    "## Data Science Libraries\n",
    "\n",
    "### Python Libraries:\n",
    "1. **Pandas** - For data manipulation and analysis.\n",
    "2. **NumPy** - For numerical computations.\n",
    "3. **Matplotlib** - For data visualization.\n",
    "4. **Seaborn** - For statistical data visualization.\n",
    "5. **Scikit-learn** - For machine learning.\n",
    "6. **TensorFlow** - For deep learning and machine learning.\n",
    "7. **Keras** - For building and training neural networks.\n",
    "8. **Statsmodels** - For statistical modeling and testing.\n",
    "\n",
    "\n"
   ]
  },
  {
   "cell_type": "markdown",
   "id": "50d75581",
   "metadata": {},
   "source": [
    "## Data Science Tools\n",
    "\n",
    "| **Tool**            | **Category**                   | **Description**                                |\n",
    "|----------------------|---------------------------------|------------------------------------------------|\n",
    "| Jupyter Notebook     | Interactive Environment        | Open-source web application for creating and sharing live code, equations, and visualizations. |\n",
    "| RStudio             | IDE for R                      | Integrated development environment for R, used for statistical computing and graphics.         |\n",
    "| Apache Hadoop       | Big Data Framework             | Framework for distributed storage and processing of large datasets.                          |\n",
    "| Apache Spark        | Big Data Analytics             | Unified analytics engine for large-scale data processing.                                     |\n",
    "| Tableau             | Data Visualization             | Business intelligence tool for creating interactive visualizations and dashboards.            |\n",
    "| TensorFlow          | Machine Learning/Deep Learning | Open-source library for building and deploying machine learning models.                      |\n",
    "\n"
   ]
  },
  {
   "cell_type": "markdown",
   "id": "13c52584",
   "metadata": {},
   "source": [
    "## Arithmetic Expression Examples\n",
    "\n",
    "Arithmetic expressions are used to perform mathematical operations. Below are some examples of common arithmetic operations:\n",
    "\n",
    "- **Addition**: `3 + 5 = 8`\n",
    "- **Subtraction**: `10 - 7 = 3`\n",
    "- **Multiplication**: `4 * 6 = 24`\n",
    "- **Division**: `15 / 3 = 5`\n",
    "- **Exponentiation**: `2 ** 3 = 8`\n",
    "- **Modulus**: `10 % 3 = 1`\n",
    "\n",
    "Arithmetic operations are fundamental in data analysis and programming!\n"
   ]
  },
  {
   "cell_type": "code",
   "execution_count": 1,
   "id": "138c26f0",
   "metadata": {},
   "outputs": [
    {
     "name": "stdout",
     "output_type": "stream",
     "text": [
      "Multiplication Result: 15\n",
      "Addition Result: 7\n"
     ]
    }
   ],
   "source": [
    "num1 = 5\n",
    "num2 = 3\n",
    "num3 = 2\n",
    "multiplication_result = num1 * num2\n",
    "addition_result = num1 + num3\n",
    "print(f\"Multiplication Result: {multiplication_result}\")\n",
    "print(f\"Addition Result: {addition_result}\")\n"
   ]
  },
  {
   "cell_type": "code",
   "execution_count": 2,
   "id": "0e8166bd",
   "metadata": {},
   "outputs": [
    {
     "name": "stdout",
     "output_type": "stream",
     "text": [
      "125 minutes is equal to 2 hours and 5 minutes.\n"
     ]
    }
   ],
   "source": [
    "def minutes_to_hours(minutes):\n",
    "    hours = minutes // 60  \n",
    "    remaining_minutes = minutes % 60\n",
    "    return hours, remaining_minutes\n",
    "minutes = 125\n",
    "hours, remaining_minutes = minutes_to_hours(minutes)\n",
    "print(f\"{minutes} minutes is equal to {hours} hours and {remaining_minutes} minutes.\")\n"
   ]
  },
  {
   "cell_type": "markdown",
   "id": "51b3dca0",
   "metadata": {},
   "source": [
    "## Objectives\n",
    "\n",
    "The main objectives of this project are:\n",
    "\n",
    "1. **Data Collection** - To gather relevant data from various sources and ensure its quality.\n",
    "2. **Data Analysis** - To apply statistical and machine learning techniques to analyze the data.\n",
    "3. **Model Development** - To build and train machine learning models based on the analyzed data.\n",
    "4. **Visualization** - To create meaningful visualizations that provide insights from the data.\n",
    "5. **Model Evaluation** - To evaluate the performance of the models and fine-tune them for better accuracy.\n",
    "6. **Deployment** - To deploy the final model for practical use and make it accessible to users.\n"
   ]
  },
  {
   "cell_type": "markdown",
   "id": "fbe1369d",
   "metadata": {},
   "source": [
    "## Author's Name\n",
    "\n",
    "This project was developed by:\n",
    "\n",
    "**Shavedha**\n"
   ]
  },
  {
   "cell_type": "code",
   "execution_count": null,
   "id": "785c351a",
   "metadata": {},
   "outputs": [],
   "source": []
  },
  {
   "cell_type": "code",
   "execution_count": null,
   "id": "03de1e6f",
   "metadata": {},
   "outputs": [],
   "source": []
  },
  {
   "cell_type": "code",
   "execution_count": null,
   "id": "765852b0",
   "metadata": {},
   "outputs": [],
   "source": []
  }
 ],
 "metadata": {
  "kernelspec": {
   "display_name": "Python 3 (ipykernel)",
   "language": "python",
   "name": "python3"
  },
  "language_info": {
   "codemirror_mode": {
    "name": "ipython",
    "version": 3
   },
   "file_extension": ".py",
   "mimetype": "text/x-python",
   "name": "python",
   "nbconvert_exporter": "python",
   "pygments_lexer": "ipython3",
   "version": "3.9.13"
  }
 },
 "nbformat": 4,
 "nbformat_minor": 5
}
